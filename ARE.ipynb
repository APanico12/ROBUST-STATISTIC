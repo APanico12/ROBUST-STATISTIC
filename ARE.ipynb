{
 "cells": [
  {
   "cell_type": "code",
   "execution_count": 70,
   "metadata": {},
   "outputs": [],
   "source": [
    "import numpy as np\n",
    "import matplotlib.pyplot as plt\n",
    "import scipy.stats as stats"
   ]
  },
  {
   "cell_type": "code",
   "execution_count": null,
   "metadata": {},
   "outputs": [],
   "source": [
    "def simulate(B,n, mu = 2, sigma =4, alpha = 0):\n",
    "    \n",
    "    matrix = np.random.normal(loc=mu, scale=sigma, size=(n, B))\n",
    "    if alpha == 0:\n",
    "        mean = np.mean(matrix, axis=0)\n",
    "        return mean\n",
    "    lower_limit = stats.norm.ppf(alpha/2, loc=mu, scale=sigma) # Lower trimming bound\n",
    "    upper_limit = stats.norm.ppf(1 - alpha/2, loc=mu, scale=sigma)  # Upper trimming bound\n",
    "    matrix_trimmed = np.where((matrix >= lower_limit) & (matrix <= upper_limit), matrix, np.nan)\n",
    "    mean = np.nanmean(matrix_trimmed, axis=0)\n",
    "    return mean"
   ]
  },
  {
   "cell_type": "code",
   "execution_count": 100,
   "metadata": {},
   "outputs": [
    {
     "data": {
      "text/plain": [
       "<matplotlib.legend.Legend at 0x14566660390>"
      ]
     },
     "execution_count": 100,
     "metadata": {},
     "output_type": "execute_result"
    },
    {
     "data": {
      "image/png": "[encoded data removed]",
      "text/plain": [
       "<Figure size 1000x500 with 1 Axes>"
      ]
     },
     "metadata": {},
     "output_type": "display_data"
    }
   ],
   "source": [
    "sim = simulate(1000, 100)\n",
    "sim_trimmed = simulate(1000, 100, alpha=0.05)\n",
    "plt.figure(figsize=(10,5))\n",
    "plt.hist(sim, bins=30, density=True,alpha=0.5, label='Normal')\n",
    "plt.hist(sim_trimmed, bins=30, density=True , alpha=0.5, label='Trimmed')\n",
    "plt.legend()\n"
   ]
  },
  {
   "cell_type": "code",
   "execution_count": 101,
   "metadata": {},
   "outputs": [
    {
     "name": "stdout",
     "output_type": "stream",
     "text": [
      "1.2372179947274695\n"
     ]
    }
   ],
   "source": [
    "#from simulation \n",
    "ARE = np.var(sim)/np.var(sim_trimmed)\n",
    "print(ARE)"
   ]
  },
  {
   "cell_type": "code",
   "execution_count": null,
   "metadata": {},
   "outputs": [
    {
     "name": "stdout",
     "output_type": "stream",
     "text": [
      "Asymptotic Relative Efficiency (ARE): 0.008999999175893945\n"
     ]
    }
   ],
   "source": [
    "#from analytical solution\n",
    "\n",
    "from scipy.stats import norm\n",
    "\n",
    "# Given parameters\n",
    "mu = 2\n",
    "sigma = 4\n",
    "alpha = 0.05\n",
    "n = 100  # sample size\n",
    "\n",
    "# Calculate the trimming bounds\n",
    "beta_1 = norm.ppf(alpha / 2, loc=mu, scale=sigma)  # Lower trimming bound\n",
    "beta_2 = norm.ppf(1 - alpha / 2, loc=mu, scale=sigma)  # Upper trimming bound\n",
    "\n",
    "# Compute φ and Φ values\n",
    "phi_1 = norm.pdf(beta_1)\n",
    "phi_2 = norm.pdf(beta_2)\n",
    "Phi_1 = norm.cdf(beta_1)\n",
    "Phi_2 = norm.cdf(beta_2)\n",
    "\n",
    "# Calculate the variance of the trimmed mean\n",
    "var_trimmed = (1/(1-2*alpha))*(sigma**2)*(1 - ((beta_2*phi_2 + beta_1*phi_1) /(Phi_2 - Phi_1))-((phi_2 - phi_1)**2 / (Phi_2 - Phi_1)**2))\n",
    "\n",
    "# Variance of the sample mean\n",
    "var_sample_mean = sigma**2 / n\n",
    "\n",
    "# Calculate the Asymptotic Relative Efficiency (ARE)\n",
    "ARE = var_sample_mean / var_trimmed\n",
    "\n",
    "# Print the results\n",
    "print(\"Asymptotic Relative Efficiency (ARE):\", ARE)"
   ]
  },
  {
   "cell_type": "code",
   "execution_count": null,
   "metadata": {},
   "outputs": [],
   "source": []
  }
 ],
 "metadata": {
  "kernelspec": {
   "display_name": "Python 3",
   "language": "python",
   "name": "python3"
  },
  "language_info": {
   "codemirror_mode": {
    "name": "ipython",
    "version": 3
   },
   "file_extension": ".py",
   "mimetype": "text/x-python",
   "name": "python",
   "nbconvert_exporter": "python",
   "pygments_lexer": "ipython3",
   "version": "3.11.9"
  }
 },
 "nbformat": 4,
 "nbformat_minor": 2
}
