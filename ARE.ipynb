{
 "cells": [
  {
   "cell_type": "code",
   "execution_count": 132,
   "metadata": {},
   "outputs": [],
   "source": [
    "import numpy as np\n",
    "import matplotlib.pyplot as plt\n",
    "import scipy.stats as stats"
   ]
  },
  {
   "cell_type": "code",
   "execution_count": 133,
   "metadata": {},
   "outputs": [],
   "source": [
    "def trimmed_mean(X,alpha):\n",
    "      # bar{X_\\alpha} = frac{1}{n - 2k}$ $\\sum_{i=k+1}^{n-k}$ $X_{(i)}$\n",
    "        n = len(X)\n",
    "        k = int(n*alpha)\n",
    "        X = np.sort(X)\n",
    "        X_sum = np.sum(X[k:n-k])\n",
    "        return (1/(n-2*k))*X_sum\n",
    "    "
   ]
  },
  {
   "cell_type": "code",
   "execution_count": 134,
   "metadata": {},
   "outputs": [],
   "source": [
    "def simulate(B,n, mu = 2, sigma =4, alpha = 0):\n",
    "    np.random.seed(123)\n",
    "    matrix = np.random.normal(loc=mu, scale=sigma, size=(n, B))\n",
    "    if alpha == 0:\n",
    "        mean = np.mean(matrix, axis=0)\n",
    "        return mean\n",
    "    else:\n",
    "       mean = np.array([trimmed_mean(matrix[:, b], alpha) for b in range(B)])\n",
    "    return mean"
   ]
  },
  {
   "cell_type": "code",
   "execution_count": 135,
   "metadata": {},
   "outputs": [
    {
     "data": {
      "text/plain": [
       "<matplotlib.legend.Legend at 0x216cd84c590>"
      ]
     },
     "execution_count": 135,
     "metadata": {},
     "output_type": "execute_result"
    },
    {
     "data": {
      "image/png": "[encoded data removed]",
      "text/plain": [
       "<Figure size 1000x500 with 1 Axes>"
      ]
     },
     "metadata": {},
     "output_type": "display_data"
    }
   ],
   "source": [
    "sim = simulate(10000, 1000)\n",
    "sim_trimmed = simulate(10000, 1000, alpha=0.05)\n",
    "plt.figure(figsize=(10,5))\n",
    "plt.hist(sim, bins=30, density=True,alpha=0.5, label='Normal')\n",
    "plt.hist(sim_trimmed, bins=30, density=True , alpha=0.5, label='Trimmed')\n",
    "plt.legend()\n"
   ]
  },
  {
   "cell_type": "code",
   "execution_count": 136,
   "metadata": {},
   "outputs": [
    {
     "name": "stdout",
     "output_type": "stream",
     "text": [
      "Asymptotic Relative Efficiency (ARE): 1.0214668013621404\n"
     ]
    }
   ],
   "source": [
    "#from simulation \n",
    "ARE = np.var(sim_trimmed)/np.var(sim)\n",
    "print(\"Asymptotic Relative Efficiency (ARE):\", ARE)"
   ]
  },
  {
   "cell_type": "code",
   "execution_count": null,
   "metadata": {},
   "outputs": [
    {
     "name": "stdout",
     "output_type": "stream",
     "text": [
      "Asymptotic Relative Efficiency (ARE): 1.4445868889599496\n"
     ]
    }
   ],
   "source": [
    "def relative_efficiency(alpha):\n",
    "    if not (0 < alpha < 0.5):\n",
    "        raise ValueError(\"alpha deve essere compreso tra 0 e 0.5\")\n",
    "\n",
    "    Z_alpha = norm.ppf(alpha)  # Quantile della normale standard\n",
    "    Z_1_minus_alpha = norm.ppf(1 - alpha)\n",
    "\n",
    "    phi_Z_alpha = norm.pdf(Z_alpha)  # Densità della normale standard\n",
    "    Phi_Z_alpha = norm.cdf(Z_alpha)\n",
    "    Phi_Z_1_minus_alpha = norm.cdf(Z_1_minus_alpha)\n",
    "\n",
    "    ARE = 1/(1 - 2 * alpha) + (2 * Z_alpha * (phi_Z_alpha ))/ (1 - 2 * alpha)**2\n",
    "    \n",
    "    return ARE\n",
    "print(\"Asymptotic Relative Efficiency (ARE):\" ,relative_efficiency(0.05))\n"
   ]
  },
  {
   "cell_type": "code",
   "execution_count": null,
   "metadata": {},
   "outputs": [],
   "source": []
  }
 ],
 "metadata": {
  "kernelspec": {
   "display_name": "Python 3",
   "language": "python",
   "name": "python3"
  },
  "language_info": {
   "codemirror_mode": {
    "name": "ipython",
    "version": 3
   },
   "file_extension": ".py",
   "mimetype": "text/x-python",
   "name": "python",
   "nbconvert_exporter": "python",
   "pygments_lexer": "ipython3",
   "version": "3.11.9"
  }
 },
 "nbformat": 4,
 "nbformat_minor": 2
}
